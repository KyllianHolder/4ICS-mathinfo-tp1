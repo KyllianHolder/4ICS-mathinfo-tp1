{
 "cells": [
  {
   "cell_type": "markdown",
   "metadata": {},
   "source": [
    "# Algorithmes de tri\n",
    "\n",
    "## Tri par insertion"
   ]
  },
  {
   "cell_type": "code",
   "execution_count": 11,
   "metadata": {},
   "outputs": [
    {
     "data": {
      "image/png": "[encoded data removed]",
      "text/plain": [
       "<Figure size 432x288 with 1 Axes>"
      ]
     },
     "metadata": {
      "needs_background": "light"
     },
     "output_type": "display_data"
    }
   ],
   "source": [
    "import random\n",
    "import time\n",
    "import matplotlib.pyplot as plt\n",
    "\n",
    "exec_time = []\n",
    "exec_nb = [1 , 10 , 100, 1000, 10000, 100000 ]\n",
    "\n",
    "for complexTime in exec_nb:\n",
    "    A = [random.randint(0,99) for randomNbgen in range(int(complexTime))]\n",
    "    start_time = time.time()\n",
    "    for j in range(1,len(A)):\n",
    "        cle = A[j]\n",
    "        i = j - 1\n",
    "        while i >= 0 and cle < A[i]:\n",
    "            A[i+1] = A[i]\n",
    "            i -= 1\n",
    "        A[i+1] = cle\n",
    "    exec_time.append(time.time() - start_time)\n",
    "\n",
    "fig, ax = plt.subplots()\n",
    "ax.plot(exec_nb, exec_time )\n",
    "\n",
    "ax.set(xlabel='tN', ylabel='temps execution')\n",
    "ax.grid()\n",
    "\n",
    "\n",
    "plt.show()\n"
   ]
  },
  {
   "cell_type": "markdown",
   "metadata": {},
   "source": [
    "exemple d'execution:\n",
    "\n",
    "[44, 94, 63, 44, 76, 99, 39, 8, 28, 88]\n",
    "[44, 63, 94, 44, 76, 99, 39, 8, 28, 88]\n",
    "[44, 44, 63, 94, 76, 99, 39, 8, 28, 88]\n",
    "[44, 44, 63, 76, 94, 99, 39, 8, 28, 88]\n",
    "[44, 44, 63, 76, 94, 99, 39, 8, 28, 88]\n",
    "[39, 44, 44, 63, 76, 94, 99, 8, 28, 88]\n",
    "[8, 39, 44, 44, 63, 76, 94, 99, 28, 88]\n",
    "[8, 28, 39, 44, 44, 63, 76, 94, 99, 88]\n",
    "[8, 28, 39, 44, 44, 63, 76, 88, 94, 99]\n",
    "\n",
    "### Invariant de boucle\n",
    "\n",
    "L'invariant de boucle est le tableau T de 1 jusqu'à j \n",
    "\n",
    "* initialization \n",
    "\n",
    "j = 1 donc T = <A[1]>\n",
    "\n",
    "il n'y à qu'un element donc il est trié \n",
    "\n",
    "* Conservation \n",
    "\n",
    "Si T de taille j est trié alors si T de taille j+1 est toujours trié après insertion A[j+1]\n",
    "\n",
    "* Terminaison \n",
    "\n",
    "lorsque j = taille (A), T est trié et contient tout A(permutation)\n",
    "\n",
    "### Compléxité algorythmique \n",
    "\n",
    "Dans le pire des cas la compléxité algoritmique est O = n² \n",
    "En effet si la liste est triée dans le sens décroissant, pour chaque élément du tableau il faudra passer dans les deux boucles pour trier le tableau.\n",
    "\n",
    "Dans le meilleur des cas la complexité algorithmique est O = n car il faudra passer une fois dans la boucle pour vérifier que le tableau est trié\n",
    "\n",
    "## Tri par selection"
   ]
  },
  {
   "cell_type": "code",
   "execution_count": 12,
   "metadata": {},
   "outputs": [
    {
     "data": {
      "image/png": "[encoded data removed]",
      "text/plain": [
       "<Figure size 432x288 with 1 Axes>"
      ]
     },
     "metadata": {
      "needs_background": "light"
     },
     "output_type": "display_data"
    }
   ],
   "source": [
    "import random\n",
    "import time\n",
    "import matplotlib.pyplot as plt\n",
    "\n",
    "exec_time = []\n",
    "exec_nb = [1 , 10 , 100, 1000, 10000, 100000 ]\n",
    "\n",
    "for complexTime in exec_nb:\n",
    "    tab = [random.randint(0,99) for randomNbgen in range(int(complexTime))]\n",
    "    start_time = time.time()\n",
    "    for i in range(len(tab)):\n",
    "        # Trouver le min\n",
    "        min = i\n",
    "        for j in range(i+1, len(tab)):\n",
    "            if tab[min] > tab[j]:\n",
    "                min = j\n",
    "                    \n",
    "        tmp = tab[i]\n",
    "        tab[i] = tab[min]\n",
    "        tab[min] = tmp\n",
    "    exec_time.append(time.time() - start_time)\n",
    "\n",
    "fig, ax = plt.subplots()\n",
    "ax.plot(exec_nb, exec_time )\n",
    "\n",
    "ax.set(xlabel='tN', ylabel='temps execution')\n",
    "ax.grid()\n",
    "\n",
    "plt.show()"
   ]
  },
  {
   "cell_type": "markdown",
   "metadata": {},
   "source": [
    "### Invariant de boucle \n",
    "\n",
    "L'invariant de boucle est le tableau T de 1 jusqu'à j \n",
    "\n",
    "* initialization \n",
    "\n",
    "j = 1 donc T = <A[1]>\n",
    "\n",
    "il n'y à qu'un element donc il est trié \n",
    "\n",
    "* Conservation \n",
    "\n",
    "Si T de taille j est trié alors si T de taille j+1 est toujours trié après selection A[j+1]\n",
    "\n",
    "* Terminaison \n",
    "\n",
    "lorsque j = taille (A), T est trié et contient tout A(permutation)\n",
    "\n",
    "### Complexité algorithmique \n",
    "\n"
   ]
  }
 ],
 "metadata": {
  "interpreter": {
   "hash": "f9f85f796d01129d0dd105a088854619f454435301f6ffec2fea96ecbd9be4ac"
  },
  "kernelspec": {
   "display_name": "Python 3.9.5 64-bit",
   "language": "python",
   "name": "python3"
  },
  "language_info": {
   "codemirror_mode": {
    "name": "ipython",
    "version": 3
   },
   "file_extension": ".py",
   "mimetype": "text/x-python",
   "name": "python",
   "nbconvert_exporter": "python",
   "pygments_lexer": "ipython3",
   "version": "3.9.5"
  },
  "orig_nbformat": 4
 },
 "nbformat": 4,
 "nbformat_minor": 2
}
